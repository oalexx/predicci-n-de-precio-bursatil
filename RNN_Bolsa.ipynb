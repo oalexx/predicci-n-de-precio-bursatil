{
  "nbformat": 4,
  "nbformat_minor": 0,
  "metadata": {
    "colab": {
      "provenance": []
    },
    "kernelspec": {
      "display_name": "Python 3 (system-wide)",
      "language": "python",
      "metadata": {
        "cocalc": {
          "description": "Python 3 programming language",
          "priority": 100,
          "url": "https://www.python.org/"
        }
      },
      "name": "python3"
    },
    "language_info": {
      "codemirror_mode": {
        "name": "ipython",
        "version": 3
      },
      "file_extension": ".py",
      "mimetype": "text/x-python",
      "name": "python",
      "nbconvert_exporter": "python",
      "pygments_lexer": "ipython3",
      "version": "3.8.5"
    }
  },
  "cells": [
    {
      "cell_type": "code",
      "metadata": {
        "colab": {
          "base_uri": "https://localhost:8080/"
        },
        "id": "loO19CfCYC2V",
        "outputId": "ccf6499f-be24-4dca-eb30-e98e9f77efb6"
      },
      "source": [
        "import pandas as pd\n",
        "import matplotlib.pyplot as plt\n",
        "import tensorflow as tf\n",
        "print(tf.__version__)"
      ],
      "execution_count": null,
      "outputs": [
        {
          "output_type": "stream",
          "name": "stdout",
          "text": [
            "2.15.0\n"
          ]
        }
      ]
    },
    {
      "cell_type": "markdown",
      "metadata": {
        "collapsed": false,
        "id": "IW24cRGrCrXZ"
      },
      "source": [
        "# **1. Descargar el dataset y almacenarlo**\n",
        "\n",
        "Por sencillez, se adjunta un documento csv con las cotizaciones de Google desde el 1 de enero del 2015 al 31 de enero del 2023. La idea es reservar enero del 2023 para la predicción, y el resto para el entrenamiento.\n",
        "\n",
        "El dataset puede obtenerse de https://finance.yahoo.com/quote/GOOG/history?period1=1420070400&period2=1675123200&interval=1d&filter=history&frequency=1d&includeAdjustedClose=true."
      ]
    },
    {
      "cell_type": "markdown",
      "source": [
        "**Es necesario subir el dataset a Google Colab** (o ubicarlo en la dirección apropiada en cualquier otro caso) para tener acceso a él. Una vez subido, lo abrimos para echar un vistazo a los primeros datos para ver cómo está estructurado el dataset:"
      ],
      "metadata": {
        "id": "-G04BwqJXEYv"
      }
    },
    {
      "cell_type": "code",
      "source": [
        "dataset = pd.read_csv('GOOG.csv', parse_dates=['Date'])\n",
        "dataset.head()"
      ],
      "metadata": {
        "colab": {
          "base_uri": "https://localhost:8080/",
          "height": 206
        },
        "id": "nrybrK0AYZ4c",
        "outputId": "8f965b3d-344c-46f8-b32a-c304ea98a062"
      },
      "execution_count": null,
      "outputs": [
        {
          "output_type": "execute_result",
          "data": {
            "text/plain": [
              "        Date       Open       High        Low      Close  Adj Close    Volume\n",
              "0 2015-01-02  26.378078  26.490770  26.133251  26.168653  26.168653  28951268\n",
              "1 2015-01-05  26.091366  26.144720  25.582764  25.623152  25.623152  41196796\n",
              "2 2015-01-06  25.679497  25.738087  24.983908  25.029282  25.029282  57998800\n",
              "3 2015-01-07  25.280592  25.292759  24.914099  24.986401  24.986401  41301082\n",
              "4 2015-01-08  24.831326  25.105074  24.482782  25.065184  25.065184  67071641"
            ],
            "text/html": [
              "\n",
              "  <div id=\"df-2600592c-96e2-41f4-b0fb-33f83e02b349\" class=\"colab-df-container\">\n",
              "    <div>\n",
              "<style scoped>\n",
              "    .dataframe tbody tr th:only-of-type {\n",
              "        vertical-align: middle;\n",
              "    }\n",
              "\n",
              "    .dataframe tbody tr th {\n",
              "        vertical-align: top;\n",
              "    }\n",
              "\n",
              "    .dataframe thead th {\n",
              "        text-align: right;\n",
              "    }\n",
              "</style>\n",
              "<table border=\"1\" class=\"dataframe\">\n",
              "  <thead>\n",
              "    <tr style=\"text-align: right;\">\n",
              "      <th></th>\n",
              "      <th>Date</th>\n",
              "      <th>Open</th>\n",
              "      <th>High</th>\n",
              "      <th>Low</th>\n",
              "      <th>Close</th>\n",
              "      <th>Adj Close</th>\n",
              "      <th>Volume</th>\n",
              "    </tr>\n",
              "  </thead>\n",
              "  <tbody>\n",
              "    <tr>\n",
              "      <th>0</th>\n",
              "      <td>2015-01-02</td>\n",
              "      <td>26.378078</td>\n",
              "      <td>26.490770</td>\n",
              "      <td>26.133251</td>\n",
              "      <td>26.168653</td>\n",
              "      <td>26.168653</td>\n",
              "      <td>28951268</td>\n",
              "    </tr>\n",
              "    <tr>\n",
              "      <th>1</th>\n",
              "      <td>2015-01-05</td>\n",
              "      <td>26.091366</td>\n",
              "      <td>26.144720</td>\n",
              "      <td>25.582764</td>\n",
              "      <td>25.623152</td>\n",
              "      <td>25.623152</td>\n",
              "      <td>41196796</td>\n",
              "    </tr>\n",
              "    <tr>\n",
              "      <th>2</th>\n",
              "      <td>2015-01-06</td>\n",
              "      <td>25.679497</td>\n",
              "      <td>25.738087</td>\n",
              "      <td>24.983908</td>\n",
              "      <td>25.029282</td>\n",
              "      <td>25.029282</td>\n",
              "      <td>57998800</td>\n",
              "    </tr>\n",
              "    <tr>\n",
              "      <th>3</th>\n",
              "      <td>2015-01-07</td>\n",
              "      <td>25.280592</td>\n",
              "      <td>25.292759</td>\n",
              "      <td>24.914099</td>\n",
              "      <td>24.986401</td>\n",
              "      <td>24.986401</td>\n",
              "      <td>41301082</td>\n",
              "    </tr>\n",
              "    <tr>\n",
              "      <th>4</th>\n",
              "      <td>2015-01-08</td>\n",
              "      <td>24.831326</td>\n",
              "      <td>25.105074</td>\n",
              "      <td>24.482782</td>\n",
              "      <td>25.065184</td>\n",
              "      <td>25.065184</td>\n",
              "      <td>67071641</td>\n",
              "    </tr>\n",
              "  </tbody>\n",
              "</table>\n",
              "</div>\n",
              "    <div class=\"colab-df-buttons\">\n",
              "\n",
              "  <div class=\"colab-df-container\">\n",
              "    <button class=\"colab-df-convert\" onclick=\"convertToInteractive('df-2600592c-96e2-41f4-b0fb-33f83e02b349')\"\n",
              "            title=\"Convert this dataframe to an interactive table.\"\n",
              "            style=\"display:none;\">\n",
              "\n",
              "  <svg xmlns=\"http://www.w3.org/2000/svg\" height=\"24px\" viewBox=\"0 -960 960 960\">\n",
              "    <path d=\"M120-120v-720h720v720H120Zm60-500h600v-160H180v160Zm220 220h160v-160H400v160Zm0 220h160v-160H400v160ZM180-400h160v-160H180v160Zm440 0h160v-160H620v160ZM180-180h160v-160H180v160Zm440 0h160v-160H620v160Z\"/>\n",
              "  </svg>\n",
              "    </button>\n",
              "\n",
              "  <style>\n",
              "    .colab-df-container {\n",
              "      display:flex;\n",
              "      gap: 12px;\n",
              "    }\n",
              "\n",
              "    .colab-df-convert {\n",
              "      background-color: #E8F0FE;\n",
              "      border: none;\n",
              "      border-radius: 50%;\n",
              "      cursor: pointer;\n",
              "      display: none;\n",
              "      fill: #1967D2;\n",
              "      height: 32px;\n",
              "      padding: 0 0 0 0;\n",
              "      width: 32px;\n",
              "    }\n",
              "\n",
              "    .colab-df-convert:hover {\n",
              "      background-color: #E2EBFA;\n",
              "      box-shadow: 0px 1px 2px rgba(60, 64, 67, 0.3), 0px 1px 3px 1px rgba(60, 64, 67, 0.15);\n",
              "      fill: #174EA6;\n",
              "    }\n",
              "\n",
              "    .colab-df-buttons div {\n",
              "      margin-bottom: 4px;\n",
              "    }\n",
              "\n",
              "    [theme=dark] .colab-df-convert {\n",
              "      background-color: #3B4455;\n",
              "      fill: #D2E3FC;\n",
              "    }\n",
              "\n",
              "    [theme=dark] .colab-df-convert:hover {\n",
              "      background-color: #434B5C;\n",
              "      box-shadow: 0px 1px 3px 1px rgba(0, 0, 0, 0.15);\n",
              "      filter: drop-shadow(0px 1px 2px rgba(0, 0, 0, 0.3));\n",
              "      fill: #FFFFFF;\n",
              "    }\n",
              "  </style>\n",
              "\n",
              "    <script>\n",
              "      const buttonEl =\n",
              "        document.querySelector('#df-2600592c-96e2-41f4-b0fb-33f83e02b349 button.colab-df-convert');\n",
              "      buttonEl.style.display =\n",
              "        google.colab.kernel.accessAllowed ? 'block' : 'none';\n",
              "\n",
              "      async function convertToInteractive(key) {\n",
              "        const element = document.querySelector('#df-2600592c-96e2-41f4-b0fb-33f83e02b349');\n",
              "        const dataTable =\n",
              "          await google.colab.kernel.invokeFunction('convertToInteractive',\n",
              "                                                    [key], {});\n",
              "        if (!dataTable) return;\n",
              "\n",
              "        const docLinkHtml = 'Like what you see? Visit the ' +\n",
              "          '<a target=\"_blank\" href=https://colab.research.google.com/notebooks/data_table.ipynb>data table notebook</a>'\n",
              "          + ' to learn more about interactive tables.';\n",
              "        element.innerHTML = '';\n",
              "        dataTable['output_type'] = 'display_data';\n",
              "        await google.colab.output.renderOutput(dataTable, element);\n",
              "        const docLink = document.createElement('div');\n",
              "        docLink.innerHTML = docLinkHtml;\n",
              "        element.appendChild(docLink);\n",
              "      }\n",
              "    </script>\n",
              "  </div>\n",
              "\n",
              "\n",
              "<div id=\"df-f9e94265-8484-4944-a2af-221027e0a7ca\">\n",
              "  <button class=\"colab-df-quickchart\" onclick=\"quickchart('df-f9e94265-8484-4944-a2af-221027e0a7ca')\"\n",
              "            title=\"Suggest charts\"\n",
              "            style=\"display:none;\">\n",
              "\n",
              "<svg xmlns=\"http://www.w3.org/2000/svg\" height=\"24px\"viewBox=\"0 0 24 24\"\n",
              "     width=\"24px\">\n",
              "    <g>\n",
              "        <path d=\"M19 3H5c-1.1 0-2 .9-2 2v14c0 1.1.9 2 2 2h14c1.1 0 2-.9 2-2V5c0-1.1-.9-2-2-2zM9 17H7v-7h2v7zm4 0h-2V7h2v10zm4 0h-2v-4h2v4z\"/>\n",
              "    </g>\n",
              "</svg>\n",
              "  </button>\n",
              "\n",
              "<style>\n",
              "  .colab-df-quickchart {\n",
              "      --bg-color: #E8F0FE;\n",
              "      --fill-color: #1967D2;\n",
              "      --hover-bg-color: #E2EBFA;\n",
              "      --hover-fill-color: #174EA6;\n",
              "      --disabled-fill-color: #AAA;\n",
              "      --disabled-bg-color: #DDD;\n",
              "  }\n",
              "\n",
              "  [theme=dark] .colab-df-quickchart {\n",
              "      --bg-color: #3B4455;\n",
              "      --fill-color: #D2E3FC;\n",
              "      --hover-bg-color: #434B5C;\n",
              "      --hover-fill-color: #FFFFFF;\n",
              "      --disabled-bg-color: #3B4455;\n",
              "      --disabled-fill-color: #666;\n",
              "  }\n",
              "\n",
              "  .colab-df-quickchart {\n",
              "    background-color: var(--bg-color);\n",
              "    border: none;\n",
              "    border-radius: 50%;\n",
              "    cursor: pointer;\n",
              "    display: none;\n",
              "    fill: var(--fill-color);\n",
              "    height: 32px;\n",
              "    padding: 0;\n",
              "    width: 32px;\n",
              "  }\n",
              "\n",
              "  .colab-df-quickchart:hover {\n",
              "    background-color: var(--hover-bg-color);\n",
              "    box-shadow: 0 1px 2px rgba(60, 64, 67, 0.3), 0 1px 3px 1px rgba(60, 64, 67, 0.15);\n",
              "    fill: var(--button-hover-fill-color);\n",
              "  }\n",
              "\n",
              "  .colab-df-quickchart-complete:disabled,\n",
              "  .colab-df-quickchart-complete:disabled:hover {\n",
              "    background-color: var(--disabled-bg-color);\n",
              "    fill: var(--disabled-fill-color);\n",
              "    box-shadow: none;\n",
              "  }\n",
              "\n",
              "  .colab-df-spinner {\n",
              "    border: 2px solid var(--fill-color);\n",
              "    border-color: transparent;\n",
              "    border-bottom-color: var(--fill-color);\n",
              "    animation:\n",
              "      spin 1s steps(1) infinite;\n",
              "  }\n",
              "\n",
              "  @keyframes spin {\n",
              "    0% {\n",
              "      border-color: transparent;\n",
              "      border-bottom-color: var(--fill-color);\n",
              "      border-left-color: var(--fill-color);\n",
              "    }\n",
              "    20% {\n",
              "      border-color: transparent;\n",
              "      border-left-color: var(--fill-color);\n",
              "      border-top-color: var(--fill-color);\n",
              "    }\n",
              "    30% {\n",
              "      border-color: transparent;\n",
              "      border-left-color: var(--fill-color);\n",
              "      border-top-color: var(--fill-color);\n",
              "      border-right-color: var(--fill-color);\n",
              "    }\n",
              "    40% {\n",
              "      border-color: transparent;\n",
              "      border-right-color: var(--fill-color);\n",
              "      border-top-color: var(--fill-color);\n",
              "    }\n",
              "    60% {\n",
              "      border-color: transparent;\n",
              "      border-right-color: var(--fill-color);\n",
              "    }\n",
              "    80% {\n",
              "      border-color: transparent;\n",
              "      border-right-color: var(--fill-color);\n",
              "      border-bottom-color: var(--fill-color);\n",
              "    }\n",
              "    90% {\n",
              "      border-color: transparent;\n",
              "      border-bottom-color: var(--fill-color);\n",
              "    }\n",
              "  }\n",
              "</style>\n",
              "\n",
              "  <script>\n",
              "    async function quickchart(key) {\n",
              "      const quickchartButtonEl =\n",
              "        document.querySelector('#' + key + ' button');\n",
              "      quickchartButtonEl.disabled = true;  // To prevent multiple clicks.\n",
              "      quickchartButtonEl.classList.add('colab-df-spinner');\n",
              "      try {\n",
              "        const charts = await google.colab.kernel.invokeFunction(\n",
              "            'suggestCharts', [key], {});\n",
              "      } catch (error) {\n",
              "        console.error('Error during call to suggestCharts:', error);\n",
              "      }\n",
              "      quickchartButtonEl.classList.remove('colab-df-spinner');\n",
              "      quickchartButtonEl.classList.add('colab-df-quickchart-complete');\n",
              "    }\n",
              "    (() => {\n",
              "      let quickchartButtonEl =\n",
              "        document.querySelector('#df-f9e94265-8484-4944-a2af-221027e0a7ca button');\n",
              "      quickchartButtonEl.style.display =\n",
              "        google.colab.kernel.accessAllowed ? 'block' : 'none';\n",
              "    })();\n",
              "  </script>\n",
              "</div>\n",
              "    </div>\n",
              "  </div>\n"
            ],
            "application/vnd.google.colaboratory.intrinsic+json": {
              "type": "dataframe",
              "variable_name": "dataset",
              "summary": "{\n  \"name\": \"dataset\",\n  \"rows\": 2033,\n  \"fields\": [\n    {\n      \"column\": \"Date\",\n      \"properties\": {\n        \"dtype\": \"date\",\n        \"min\": \"2015-01-02 00:00:00\",\n        \"max\": \"2023-01-30 00:00:00\",\n        \"num_unique_values\": 2033,\n        \"samples\": [\n          \"2017-10-02 00:00:00\",\n          \"2018-12-03 00:00:00\",\n          \"2017-03-14 00:00:00\"\n        ],\n        \"semantic_type\": \"\",\n        \"description\": \"\"\n      }\n    },\n    {\n      \"column\": \"Open\",\n      \"properties\": {\n        \"dtype\": \"number\",\n        \"std\": 34.2164148256178,\n        \"min\": 24.664783,\n        \"max\": 151.863495,\n        \"num_unique_values\": 1989,\n        \"samples\": [\n          61.1105,\n          145.121002,\n          56.566002\n        ],\n        \"semantic_type\": \"\",\n        \"description\": \"\"\n      }\n    },\n    {\n      \"column\": \"High\",\n      \"properties\": {\n        \"dtype\": \"number\",\n        \"std\": 34.62028208258608,\n        \"min\": 24.730902,\n        \"max\": 152.100006,\n        \"num_unique_values\": 2011,\n        \"samples\": [\n          64.019997,\n          41.150002,\n          38.6605\n        ],\n        \"semantic_type\": \"\",\n        \"description\": \"\"\n      }\n    },\n    {\n      \"column\": \"Low\",\n      \"properties\": {\n        \"dtype\": \"number\",\n        \"std\": 33.8147165761176,\n        \"min\": 24.311253,\n        \"max\": 149.887497,\n        \"num_unique_values\": 2008,\n        \"samples\": [\n          120.384499,\n          40.949001,\n          38.341\n        ],\n        \"semantic_type\": \"\",\n        \"description\": \"\"\n      }\n    },\n    {\n      \"column\": \"Close\",\n      \"properties\": {\n        \"dtype\": \"number\",\n        \"std\": 34.20950438140466,\n        \"min\": 24.56007,\n        \"max\": 150.709,\n        \"num_unique_values\": 2012,\n        \"samples\": [\n          64.162498,\n          41.022499,\n          38.644001\n        ],\n        \"semantic_type\": \"\",\n        \"description\": \"\"\n      }\n    },\n    {\n      \"column\": \"Adj Close\",\n      \"properties\": {\n        \"dtype\": \"number\",\n        \"std\": 34.20950438140466,\n        \"min\": 24.56007,\n        \"max\": 150.709,\n        \"num_unique_values\": 2012,\n        \"samples\": [\n          64.162498,\n          41.022499,\n          38.644001\n        ],\n        \"semantic_type\": \"\",\n        \"description\": \"\"\n      }\n    },\n    {\n      \"column\": \"Volume\",\n      \"properties\": {\n        \"dtype\": \"number\",\n        \"std\": 15734049,\n        \"min\": 6936000,\n        \"max\": 223298000,\n        \"num_unique_values\": 1951,\n        \"samples\": [\n          14798000,\n          32020000,\n          18696900\n        ],\n        \"semantic_type\": \"\",\n        \"description\": \"\"\n      }\n    }\n  ]\n}"
            }
          },
          "metadata": {},
          "execution_count": 2
        }
      ]
    },
    {
      "cell_type": "markdown",
      "source": [
        "Aunque no es necesario entender la terminología bursatil, por simple cúltura se recomienda consultar qué es cada término. En esta actividad nos vamos a centrar en el valor de cierre (Close), que indica el precio de la acción (de Google, en este caso) en el momento de cierre de los mercados, es decir, el valor que tiene la acción al finalizar el día."
      ],
      "metadata": {
        "id": "3EYVAPYuZJYs"
      }
    },
    {
      "cell_type": "markdown",
      "metadata": {
        "collapsed": false,
        "id": "0ZTs4Cd0C49G"
      },
      "source": [
        "Un buen punto de partida puede ser el mostrar graficamente todos los valores de cierre con los que vamos a trabajar:"
      ]
    },
    {
      "cell_type": "code",
      "source": [
        "dataset['Close'].plot()\n",
        "\n",
        "plt.title('Histórico de cierres')\n",
        "plt.xlabel('Fecha (nº de día)')\n",
        "plt.ylabel('Precio')\n",
        "plt.show()"
      ],
      "metadata": {
        "colab": {
          "base_uri": "https://localhost:8080/",
          "height": 472
        },
        "id": "Q7aN2E0nbATv",
        "outputId": "a4f9d986-4430-4a29-e3f7-4abb53e78147"
      },
      "execution_count": null,
      "outputs": [
        {
          "output_type": "display_data",
          "data": {
            "text/plain": [
              "<Figure size 640x480 with 1 Axes>"
            ],
            "image/png": "[encoded data removed]"
          },
          "metadata": {}
        }
      ]
    },
    {
      "cell_type": "markdown",
      "metadata": {
        "collapsed": false,
        "id": "kyejfTbWL5Km"
      },
      "source": [
        "# 2. Normalización de los datos"
      ]
    },
    {
      "cell_type": "markdown",
      "metadata": {
        "collapsed": false,
        "id": "CtvcOIk1Dxod"
      },
      "source": [
        "Como ya sabemos, una técnica muy común consiste en normalizar los datos en valores entre 0 y 1. Cuando se trata de series temporales, no podemos simplemente dividir por 255 como hacemos habitualmente con los píxeles.\n",
        "\n",
        "**Paso 1**: Obten los valores mínimos y máximos de la serie. A continuación, utiliza la diferencia entre esos dos valores para normalizar: (original - mínimo) / (máximo - mínimo). Puedes utilizar min y max de numpy para ellos.\n",
        "\n",
        "\n",
        "\n"
      ]
    },
    {
      "cell_type": "code",
      "metadata": {
        "id": "IjiQ6hCWYI47"
      },
      "source": [
        "import numpy as np\n",
        "\n",
        "dataset['Close normalizado'] = (dataset['Close'] - np.min(dataset['Close'])) / (np.max(dataset['Close']) - np.min(dataset['Close']))"
      ],
      "execution_count": null,
      "outputs": []
    },
    {
      "cell_type": "markdown",
      "metadata": {
        "collapsed": false,
        "id": "qk5l4wEPFmDM"
      },
      "source": [
        "Muestra algunos valores para verificar que has normalizado correctamente.\n",
        "\n",
        "\n"
      ]
    },
    {
      "cell_type": "code",
      "source": [
        "dataset[['Close', 'Close normalizado']].head()"
      ],
      "metadata": {
        "id": "CMDdXDrpej4q",
        "colab": {
          "base_uri": "https://localhost:8080/",
          "height": 206
        },
        "outputId": "24b72a5b-9df6-46e0-e998-1bbbd4522248"
      },
      "execution_count": null,
      "outputs": [
        {
          "output_type": "execute_result",
          "data": {
            "text/plain": [
              "       Close  Close normalizado\n",
              "0  26.168653           0.012751\n",
              "1  25.623152           0.008427\n",
              "2  25.029282           0.003720\n",
              "3  24.986401           0.003380\n",
              "4  25.065184           0.004004"
            ],
            "text/html": [
              "\n",
              "  <div id=\"df-ef465da3-14ef-4f87-a096-f55f30090c93\" class=\"colab-df-container\">\n",
              "    <div>\n",
              "<style scoped>\n",
              "    .dataframe tbody tr th:only-of-type {\n",
              "        vertical-align: middle;\n",
              "    }\n",
              "\n",
              "    .dataframe tbody tr th {\n",
              "        vertical-align: top;\n",
              "    }\n",
              "\n",
              "    .dataframe thead th {\n",
              "        text-align: right;\n",
              "    }\n",
              "</style>\n",
              "<table border=\"1\" class=\"dataframe\">\n",
              "  <thead>\n",
              "    <tr style=\"text-align: right;\">\n",
              "      <th></th>\n",
              "      <th>Close</th>\n",
              "      <th>Close normalizado</th>\n",
              "    </tr>\n",
              "  </thead>\n",
              "  <tbody>\n",
              "    <tr>\n",
              "      <th>0</th>\n",
              "      <td>26.168653</td>\n",
              "      <td>0.012751</td>\n",
              "    </tr>\n",
              "    <tr>\n",
              "      <th>1</th>\n",
              "      <td>25.623152</td>\n",
              "      <td>0.008427</td>\n",
              "    </tr>\n",
              "    <tr>\n",
              "      <th>2</th>\n",
              "      <td>25.029282</td>\n",
              "      <td>0.003720</td>\n",
              "    </tr>\n",
              "    <tr>\n",
              "      <th>3</th>\n",
              "      <td>24.986401</td>\n",
              "      <td>0.003380</td>\n",
              "    </tr>\n",
              "    <tr>\n",
              "      <th>4</th>\n",
              "      <td>25.065184</td>\n",
              "      <td>0.004004</td>\n",
              "    </tr>\n",
              "  </tbody>\n",
              "</table>\n",
              "</div>\n",
              "    <div class=\"colab-df-buttons\">\n",
              "\n",
              "  <div class=\"colab-df-container\">\n",
              "    <button class=\"colab-df-convert\" onclick=\"convertToInteractive('df-ef465da3-14ef-4f87-a096-f55f30090c93')\"\n",
              "            title=\"Convert this dataframe to an interactive table.\"\n",
              "            style=\"display:none;\">\n",
              "\n",
              "  <svg xmlns=\"http://www.w3.org/2000/svg\" height=\"24px\" viewBox=\"0 -960 960 960\">\n",
              "    <path d=\"M120-120v-720h720v720H120Zm60-500h600v-160H180v160Zm220 220h160v-160H400v160Zm0 220h160v-160H400v160ZM180-400h160v-160H180v160Zm440 0h160v-160H620v160ZM180-180h160v-160H180v160Zm440 0h160v-160H620v160Z\"/>\n",
              "  </svg>\n",
              "    </button>\n",
              "\n",
              "  <style>\n",
              "    .colab-df-container {\n",
              "      display:flex;\n",
              "      gap: 12px;\n",
              "    }\n",
              "\n",
              "    .colab-df-convert {\n",
              "      background-color: #E8F0FE;\n",
              "      border: none;\n",
              "      border-radius: 50%;\n",
              "      cursor: pointer;\n",
              "      display: none;\n",
              "      fill: #1967D2;\n",
              "      height: 32px;\n",
              "      padding: 0 0 0 0;\n",
              "      width: 32px;\n",
              "    }\n",
              "\n",
              "    .colab-df-convert:hover {\n",
              "      background-color: #E2EBFA;\n",
              "      box-shadow: 0px 1px 2px rgba(60, 64, 67, 0.3), 0px 1px 3px 1px rgba(60, 64, 67, 0.15);\n",
              "      fill: #174EA6;\n",
              "    }\n",
              "\n",
              "    .colab-df-buttons div {\n",
              "      margin-bottom: 4px;\n",
              "    }\n",
              "\n",
              "    [theme=dark] .colab-df-convert {\n",
              "      background-color: #3B4455;\n",
              "      fill: #D2E3FC;\n",
              "    }\n",
              "\n",
              "    [theme=dark] .colab-df-convert:hover {\n",
              "      background-color: #434B5C;\n",
              "      box-shadow: 0px 1px 3px 1px rgba(0, 0, 0, 0.15);\n",
              "      filter: drop-shadow(0px 1px 2px rgba(0, 0, 0, 0.3));\n",
              "      fill: #FFFFFF;\n",
              "    }\n",
              "  </style>\n",
              "\n",
              "    <script>\n",
              "      const buttonEl =\n",
              "        document.querySelector('#df-ef465da3-14ef-4f87-a096-f55f30090c93 button.colab-df-convert');\n",
              "      buttonEl.style.display =\n",
              "        google.colab.kernel.accessAllowed ? 'block' : 'none';\n",
              "\n",
              "      async function convertToInteractive(key) {\n",
              "        const element = document.querySelector('#df-ef465da3-14ef-4f87-a096-f55f30090c93');\n",
              "        const dataTable =\n",
              "          await google.colab.kernel.invokeFunction('convertToInteractive',\n",
              "                                                    [key], {});\n",
              "        if (!dataTable) return;\n",
              "\n",
              "        const docLinkHtml = 'Like what you see? Visit the ' +\n",
              "          '<a target=\"_blank\" href=https://colab.research.google.com/notebooks/data_table.ipynb>data table notebook</a>'\n",
              "          + ' to learn more about interactive tables.';\n",
              "        element.innerHTML = '';\n",
              "        dataTable['output_type'] = 'display_data';\n",
              "        await google.colab.output.renderOutput(dataTable, element);\n",
              "        const docLink = document.createElement('div');\n",
              "        docLink.innerHTML = docLinkHtml;\n",
              "        element.appendChild(docLink);\n",
              "      }\n",
              "    </script>\n",
              "  </div>\n",
              "\n",
              "\n",
              "<div id=\"df-5e019e54-ffd1-4728-8f02-91269ae776bd\">\n",
              "  <button class=\"colab-df-quickchart\" onclick=\"quickchart('df-5e019e54-ffd1-4728-8f02-91269ae776bd')\"\n",
              "            title=\"Suggest charts\"\n",
              "            style=\"display:none;\">\n",
              "\n",
              "<svg xmlns=\"http://www.w3.org/2000/svg\" height=\"24px\"viewBox=\"0 0 24 24\"\n",
              "     width=\"24px\">\n",
              "    <g>\n",
              "        <path d=\"M19 3H5c-1.1 0-2 .9-2 2v14c0 1.1.9 2 2 2h14c1.1 0 2-.9 2-2V5c0-1.1-.9-2-2-2zM9 17H7v-7h2v7zm4 0h-2V7h2v10zm4 0h-2v-4h2v4z\"/>\n",
              "    </g>\n",
              "</svg>\n",
              "  </button>\n",
              "\n",
              "<style>\n",
              "  .colab-df-quickchart {\n",
              "      --bg-color: #E8F0FE;\n",
              "      --fill-color: #1967D2;\n",
              "      --hover-bg-color: #E2EBFA;\n",
              "      --hover-fill-color: #174EA6;\n",
              "      --disabled-fill-color: #AAA;\n",
              "      --disabled-bg-color: #DDD;\n",
              "  }\n",
              "\n",
              "  [theme=dark] .colab-df-quickchart {\n",
              "      --bg-color: #3B4455;\n",
              "      --fill-color: #D2E3FC;\n",
              "      --hover-bg-color: #434B5C;\n",
              "      --hover-fill-color: #FFFFFF;\n",
              "      --disabled-bg-color: #3B4455;\n",
              "      --disabled-fill-color: #666;\n",
              "  }\n",
              "\n",
              "  .colab-df-quickchart {\n",
              "    background-color: var(--bg-color);\n",
              "    border: none;\n",
              "    border-radius: 50%;\n",
              "    cursor: pointer;\n",
              "    display: none;\n",
              "    fill: var(--fill-color);\n",
              "    height: 32px;\n",
              "    padding: 0;\n",
              "    width: 32px;\n",
              "  }\n",
              "\n",
              "  .colab-df-quickchart:hover {\n",
              "    background-color: var(--hover-bg-color);\n",
              "    box-shadow: 0 1px 2px rgba(60, 64, 67, 0.3), 0 1px 3px 1px rgba(60, 64, 67, 0.15);\n",
              "    fill: var(--button-hover-fill-color);\n",
              "  }\n",
              "\n",
              "  .colab-df-quickchart-complete:disabled,\n",
              "  .colab-df-quickchart-complete:disabled:hover {\n",
              "    background-color: var(--disabled-bg-color);\n",
              "    fill: var(--disabled-fill-color);\n",
              "    box-shadow: none;\n",
              "  }\n",
              "\n",
              "  .colab-df-spinner {\n",
              "    border: 2px solid var(--fill-color);\n",
              "    border-color: transparent;\n",
              "    border-bottom-color: var(--fill-color);\n",
              "    animation:\n",
              "      spin 1s steps(1) infinite;\n",
              "  }\n",
              "\n",
              "  @keyframes spin {\n",
              "    0% {\n",
              "      border-color: transparent;\n",
              "      border-bottom-color: var(--fill-color);\n",
              "      border-left-color: var(--fill-color);\n",
              "    }\n",
              "    20% {\n",
              "      border-color: transparent;\n",
              "      border-left-color: var(--fill-color);\n",
              "      border-top-color: var(--fill-color);\n",
              "    }\n",
              "    30% {\n",
              "      border-color: transparent;\n",
              "      border-left-color: var(--fill-color);\n",
              "      border-top-color: var(--fill-color);\n",
              "      border-right-color: var(--fill-color);\n",
              "    }\n",
              "    40% {\n",
              "      border-color: transparent;\n",
              "      border-right-color: var(--fill-color);\n",
              "      border-top-color: var(--fill-color);\n",
              "    }\n",
              "    60% {\n",
              "      border-color: transparent;\n",
              "      border-right-color: var(--fill-color);\n",
              "    }\n",
              "    80% {\n",
              "      border-color: transparent;\n",
              "      border-right-color: var(--fill-color);\n",
              "      border-bottom-color: var(--fill-color);\n",
              "    }\n",
              "    90% {\n",
              "      border-color: transparent;\n",
              "      border-bottom-color: var(--fill-color);\n",
              "    }\n",
              "  }\n",
              "</style>\n",
              "\n",
              "  <script>\n",
              "    async function quickchart(key) {\n",
              "      const quickchartButtonEl =\n",
              "        document.querySelector('#' + key + ' button');\n",
              "      quickchartButtonEl.disabled = true;  // To prevent multiple clicks.\n",
              "      quickchartButtonEl.classList.add('colab-df-spinner');\n",
              "      try {\n",
              "        const charts = await google.colab.kernel.invokeFunction(\n",
              "            'suggestCharts', [key], {});\n",
              "      } catch (error) {\n",
              "        console.error('Error during call to suggestCharts:', error);\n",
              "      }\n",
              "      quickchartButtonEl.classList.remove('colab-df-spinner');\n",
              "      quickchartButtonEl.classList.add('colab-df-quickchart-complete');\n",
              "    }\n",
              "    (() => {\n",
              "      let quickchartButtonEl =\n",
              "        document.querySelector('#df-5e019e54-ffd1-4728-8f02-91269ae776bd button');\n",
              "      quickchartButtonEl.style.display =\n",
              "        google.colab.kernel.accessAllowed ? 'block' : 'none';\n",
              "    })();\n",
              "  </script>\n",
              "</div>\n",
              "    </div>\n",
              "  </div>\n"
            ],
            "application/vnd.google.colaboratory.intrinsic+json": {
              "type": "dataframe",
              "summary": "{\n  \"name\": \"dataset[['Close', 'Close normalizado']]\",\n  \"rows\": 5,\n  \"fields\": [\n    {\n      \"column\": \"Close\",\n      \"properties\": {\n        \"dtype\": \"number\",\n        \"std\": 0.514290649287249,\n        \"min\": 24.986401,\n        \"max\": 26.168653,\n        \"num_unique_values\": 5,\n        \"samples\": [\n          25.623152,\n          25.065184,\n          25.029282\n        ],\n        \"semantic_type\": \"\",\n        \"description\": \"\"\n      }\n    },\n    {\n      \"column\": \"Close normalizado\",\n      \"properties\": {\n        \"dtype\": \"number\",\n        \"std\": 0.004076853044153834,\n        \"min\": 0.0033795847495496087,\n        \"max\": 0.012751459723043226,\n        \"num_unique_values\": 5,\n        \"samples\": [\n          0.00842719791598709,\n          0.004004108477178514,\n          0.0037195083620606122\n        ],\n        \"semantic_type\": \"\",\n        \"description\": \"\"\n      }\n    }\n  ]\n}"
            }
          },
          "metadata": {},
          "execution_count": 6
        }
      ]
    },
    {
      "cell_type": "markdown",
      "metadata": {
        "collapsed": false,
        "id": "AxzoP0UXL_jP"
      },
      "source": [
        "# 3. Preprocesado de los datos"
      ]
    },
    {
      "cell_type": "markdown",
      "metadata": {
        "collapsed": false,
        "id": "TpTqdDfYGf_W"
      },
      "source": [
        "Puesto que estamos trabajando con series temporales, vamos a convertir el vector de entrada en una matriz. En la matriz organizaremos los datos por días, de forma que cada fila contiene D precios de cierre, y una predicción del día diguiente (D+1). Recuerda cómo trabajamos con series temporales:\n",
        "*   Fila 0: desde el día 0 al día D-1, predice el día D\n",
        "*   Fila 1: desde el día 1 al día D, predice el día D+1\n",
        "*   Fila 2: desde el día 2 al día D+1, predice el día D+2\n",
        "*   Fila 3: desde el día 3 al día D+2, predice el día D+3\n",
        "*   etc\n",
        "\n",
        "**Paso 2**: realiza las siguientes acciones como preparativo a tu modelo:\n",
        "\n",
        "1.   Asigna un valor de 50 a D.\n",
        "2.   Crea la matriz explicada anteriormente. Por sencillez, se recomienda crear una matriz de D elementos por fila (en lugar de D+1 como se ha explicado) y un vector con las predicciones.\n",
        "3.   Muestra la estructura o estructuras creadas.\n",
        "\n",
        "\n"
      ]
    },
    {
      "cell_type": "code",
      "metadata": {
        "id": "1eYlrylwYNqa",
        "colab": {
          "base_uri": "https://localhost:8080/"
        },
        "outputId": "6eb79f93-d039-4d31-e796-ef0b1a44a12d"
      },
      "source": [
        "D = 50\n",
        "normalizados = dataset['Close normalizado'].values\n",
        "\n",
        "X = []\n",
        "Y = []\n",
        "for i in range (D, len(normalizados)):\n",
        "  X.append(normalizados[i-D:i])\n",
        "  Y.append(normalizados[i])\n",
        "\n",
        "X = np.array(X)\n",
        "X = np.expand_dims(X, axis = 2)\n",
        "Y = np.array(Y)\n",
        "\n",
        "print(f'Tamaño del conjunto de datos de entrada: {X.shape}')\n",
        "print(f'Tamaño del conjunto de etiquetas: {Y.shape}')"
      ],
      "execution_count": null,
      "outputs": [
        {
          "output_type": "stream",
          "name": "stdout",
          "text": [
            "Tamaño del conjunto de datos de entrada: (1983, 50, 1)\n",
            "Tamaño del conjunto de etiquetas: (1983,)\n"
          ]
        }
      ]
    },
    {
      "cell_type": "markdown",
      "metadata": {
        "collapsed": false,
        "id": "4mOXrfFVMKRA"
      },
      "source": [
        "# 4. Conjuntos de entrenamiento y de prueba"
      ]
    },
    {
      "cell_type": "markdown",
      "metadata": {
        "collapsed": false,
        "id": "T6YG9YclJk9n"
      },
      "source": [
        "**Paso 3**: Crear las variables **x_train, y_train, x_test e y_test**. Recuerda que utilizamos el último mes (enero del 2023) para test y el resto para entrenamiento."
      ]
    },
    {
      "cell_type": "code",
      "metadata": {
        "id": "iqgS7tu5JUc5"
      },
      "source": [
        "x_train, x_test = X[:-31], X[-31:]\n",
        "y_train, y_test = Y[:-31], Y[-31:]"
      ],
      "execution_count": null,
      "outputs": []
    },
    {
      "cell_type": "markdown",
      "metadata": {
        "collapsed": false,
        "id": "W3VhCNbVLyPj"
      },
      "source": [
        "# 5. Creación del modelo"
      ]
    },
    {
      "cell_type": "markdown",
      "metadata": {
        "collapsed": false,
        "id": "IvaUY4TmMUpa"
      },
      "source": [
        "**Paso 4**: Construye una red neuronal recurrente para trabajar con los datos anteriores. Para ellos debes:\n",
        "*   Utilizar una capa LSTM. Debes encontrar su configuración adecuada.\n",
        "*   Utilizar una capa final densa de una sola neurona.\n",
        "\n"
      ]
    },
    {
      "cell_type": "code",
      "metadata": {
        "id": "s8YmUm3WJZdm"
      },
      "source": [
        "from tensorflow.keras import layers\n",
        "from tensorflow.keras.models import Sequential\n",
        "\n",
        "model = Sequential()\n",
        "model.add(layers.LSTM(units=128, input_shape=(X.shape[1], X.shape[2])))\n",
        "model.add(layers.Dense(1))"
      ],
      "execution_count": null,
      "outputs": []
    },
    {
      "cell_type": "markdown",
      "metadata": {
        "collapsed": false,
        "id": "g6xI_87qNgzg"
      },
      "source": [
        "**Paso 5:** Muestra la estructura de tu modelo con summary():\n",
        "\n"
      ]
    },
    {
      "cell_type": "code",
      "metadata": {
        "id": "vYCGYDj3OI97",
        "colab": {
          "base_uri": "https://localhost:8080/"
        },
        "outputId": "c84b9d83-074a-4558-ab85-1dbea34a23bd"
      },
      "source": [
        "model.summary()"
      ],
      "execution_count": null,
      "outputs": [
        {
          "output_type": "stream",
          "name": "stdout",
          "text": [
            "Model: \"sequential_1\"\n",
            "_________________________________________________________________\n",
            " Layer (type)                Output Shape              Param #   \n",
            "=================================================================\n",
            " lstm_1 (LSTM)               (None, 128)               66560     \n",
            "                                                                 \n",
            " dense_1 (Dense)             (None, 1)                 129       \n",
            "                                                                 \n",
            "=================================================================\n",
            "Total params: 66689 (260.50 KB)\n",
            "Trainable params: 66689 (260.50 KB)\n",
            "Non-trainable params: 0 (0.00 Byte)\n",
            "_________________________________________________________________\n"
          ]
        }
      ]
    },
    {
      "cell_type": "markdown",
      "source": [
        "# 6. Compilación y entrenamiento"
      ],
      "metadata": {
        "id": "FO2J9hMQkS1g"
      }
    },
    {
      "cell_type": "markdown",
      "source": [
        "**Paso 6:** Compila tu modelo. Debes probar diferentes optimizadores y funciones de pérdida para encontrar la combinación más adecuada."
      ],
      "metadata": {
        "id": "sDJOps4Mj8Yo"
      }
    },
    {
      "cell_type": "code",
      "source": [
        "model.compile(optimizer='adam', loss='mean_squared_error')"
      ],
      "metadata": {
        "id": "0_QeC5QzkJBv"
      },
      "execution_count": null,
      "outputs": []
    },
    {
      "cell_type": "markdown",
      "source": [
        "**Paso 7:** Utiliza fit() para entrenar el modelo. Elige los valores adecuados de batch y de épocas."
      ],
      "metadata": {
        "id": "knlxtBM9kYJ3"
      }
    },
    {
      "cell_type": "code",
      "source": [
        "model.fit(x_train, y_train, batch_size=32, epochs=50, verbose=2)"
      ],
      "metadata": {
        "id": "OyvQTfO5kqr0",
        "colab": {
          "base_uri": "https://localhost:8080/"
        },
        "outputId": "2e550845-c216-43d3-a784-09c9ecf304f4"
      },
      "execution_count": null,
      "outputs": [
        {
          "output_type": "stream",
          "name": "stdout",
          "text": [
            "Epoch 1/50\n",
            "61/61 - 5s - loss: 0.0132 - 5s/epoch - 74ms/step\n",
            "Epoch 2/50\n",
            "61/61 - 3s - loss: 4.9022e-04 - 3s/epoch - 53ms/step\n",
            "Epoch 3/50\n",
            "61/61 - 4s - loss: 4.8820e-04 - 4s/epoch - 58ms/step\n",
            "Epoch 4/50\n",
            "61/61 - 2s - loss: 4.5636e-04 - 2s/epoch - 41ms/step\n",
            "Epoch 5/50\n",
            "61/61 - 3s - loss: 4.6909e-04 - 3s/epoch - 42ms/step\n",
            "Epoch 6/50\n",
            "61/61 - 2s - loss: 4.3672e-04 - 2s/epoch - 41ms/step\n",
            "Epoch 7/50\n",
            "61/61 - 4s - loss: 4.4946e-04 - 4s/epoch - 66ms/step\n",
            "Epoch 8/50\n",
            "61/61 - 3s - loss: 4.2792e-04 - 3s/epoch - 45ms/step\n",
            "Epoch 9/50\n",
            "61/61 - 3s - loss: 4.2138e-04 - 3s/epoch - 43ms/step\n",
            "Epoch 10/50\n",
            "61/61 - 3s - loss: 3.8765e-04 - 3s/epoch - 47ms/step\n",
            "Epoch 11/50\n",
            "61/61 - 7s - loss: 3.8964e-04 - 7s/epoch - 107ms/step\n",
            "Epoch 12/50\n",
            "61/61 - 3s - loss: 3.9728e-04 - 3s/epoch - 55ms/step\n",
            "Epoch 13/50\n",
            "61/61 - 3s - loss: 3.5790e-04 - 3s/epoch - 55ms/step\n",
            "Epoch 14/50\n",
            "61/61 - 3s - loss: 3.6812e-04 - 3s/epoch - 42ms/step\n",
            "Epoch 15/50\n",
            "61/61 - 4s - loss: 3.4847e-04 - 4s/epoch - 68ms/step\n",
            "Epoch 16/50\n",
            "61/61 - 2s - loss: 3.5921e-04 - 2s/epoch - 40ms/step\n",
            "Epoch 17/50\n",
            "61/61 - 3s - loss: 3.3257e-04 - 3s/epoch - 43ms/step\n",
            "Epoch 18/50\n",
            "61/61 - 3s - loss: 3.3201e-04 - 3s/epoch - 43ms/step\n",
            "Epoch 19/50\n",
            "61/61 - 4s - loss: 3.2548e-04 - 4s/epoch - 72ms/step\n",
            "Epoch 20/50\n",
            "61/61 - 6s - loss: 3.0858e-04 - 6s/epoch - 99ms/step\n",
            "Epoch 21/50\n",
            "61/61 - 5s - loss: 3.8447e-04 - 5s/epoch - 75ms/step\n",
            "Epoch 22/50\n",
            "61/61 - 5s - loss: 2.9409e-04 - 5s/epoch - 75ms/step\n",
            "Epoch 23/50\n",
            "61/61 - 5s - loss: 3.3094e-04 - 5s/epoch - 81ms/step\n",
            "Epoch 24/50\n",
            "61/61 - 4s - loss: 3.0317e-04 - 4s/epoch - 70ms/step\n",
            "Epoch 25/50\n",
            "61/61 - 5s - loss: 2.8149e-04 - 5s/epoch - 88ms/step\n",
            "Epoch 26/50\n",
            "61/61 - 4s - loss: 2.8338e-04 - 4s/epoch - 69ms/step\n",
            "Epoch 27/50\n",
            "61/61 - 5s - loss: 2.8565e-04 - 5s/epoch - 81ms/step\n",
            "Epoch 28/50\n",
            "61/61 - 6s - loss: 2.9820e-04 - 6s/epoch - 96ms/step\n",
            "Epoch 29/50\n",
            "61/61 - 5s - loss: 2.7358e-04 - 5s/epoch - 77ms/step\n",
            "Epoch 30/50\n",
            "61/61 - 5s - loss: 2.5774e-04 - 5s/epoch - 90ms/step\n",
            "Epoch 31/50\n",
            "61/61 - 5s - loss: 2.5416e-04 - 5s/epoch - 75ms/step\n",
            "Epoch 32/50\n",
            "61/61 - 5s - loss: 2.6737e-04 - 5s/epoch - 85ms/step\n",
            "Epoch 33/50\n",
            "61/61 - 6s - loss: 2.7147e-04 - 6s/epoch - 97ms/step\n",
            "Epoch 34/50\n",
            "61/61 - 4s - loss: 2.5496e-04 - 4s/epoch - 66ms/step\n",
            "Epoch 35/50\n",
            "61/61 - 4s - loss: 2.5968e-04 - 4s/epoch - 74ms/step\n",
            "Epoch 36/50\n",
            "61/61 - 5s - loss: 2.3994e-04 - 5s/epoch - 82ms/step\n",
            "Epoch 37/50\n",
            "61/61 - 3s - loss: 2.3119e-04 - 3s/epoch - 53ms/step\n",
            "Epoch 38/50\n",
            "61/61 - 3s - loss: 2.3140e-04 - 3s/epoch - 41ms/step\n",
            "Epoch 39/50\n",
            "61/61 - 3s - loss: 2.2459e-04 - 3s/epoch - 53ms/step\n",
            "Epoch 40/50\n",
            "61/61 - 5s - loss: 2.3780e-04 - 5s/epoch - 74ms/step\n",
            "Epoch 41/50\n",
            "61/61 - 5s - loss: 2.5299e-04 - 5s/epoch - 76ms/step\n",
            "Epoch 42/50\n",
            "61/61 - 4s - loss: 2.4515e-04 - 4s/epoch - 60ms/step\n",
            "Epoch 43/50\n",
            "61/61 - 3s - loss: 2.3717e-04 - 3s/epoch - 49ms/step\n",
            "Epoch 44/50\n",
            "61/61 - 5s - loss: 2.1949e-04 - 5s/epoch - 82ms/step\n",
            "Epoch 45/50\n",
            "61/61 - 2s - loss: 2.0469e-04 - 2s/epoch - 41ms/step\n",
            "Epoch 46/50\n",
            "61/61 - 4s - loss: 2.0588e-04 - 4s/epoch - 65ms/step\n",
            "Epoch 47/50\n",
            "61/61 - 7s - loss: 2.1374e-04 - 7s/epoch - 112ms/step\n",
            "Epoch 48/50\n",
            "61/61 - 5s - loss: 2.0040e-04 - 5s/epoch - 85ms/step\n",
            "Epoch 49/50\n",
            "61/61 - 2s - loss: 2.0100e-04 - 2s/epoch - 41ms/step\n",
            "Epoch 50/50\n",
            "61/61 - 4s - loss: 1.8859e-04 - 4s/epoch - 58ms/step\n"
          ]
        },
        {
          "output_type": "execute_result",
          "data": {
            "text/plain": [
              "<keras.src.callbacks.History at 0x7f3f2f639ea0>"
            ]
          },
          "metadata": {},
          "execution_count": 14
        }
      ]
    },
    {
      "cell_type": "markdown",
      "metadata": {
        "collapsed": false,
        "id": "wryNEsg3OQ-Q"
      },
      "source": [
        "# 7. Predicción"
      ]
    },
    {
      "cell_type": "markdown",
      "metadata": {
        "collapsed": false,
        "id": "lEtS47TWOd8J"
      },
      "source": [
        "Mide la calidad de tu modelo analizando las predicciones que es capaz de hacer en relación al conjunto de test.\n",
        "\n",
        "**Paso 8:** Utiliza predict() para obtener las mediciones con el conjunto de prueba."
      ]
    },
    {
      "cell_type": "code",
      "metadata": {
        "id": "KpydHm4hYZap",
        "colab": {
          "base_uri": "https://localhost:8080/"
        },
        "outputId": "add63822-f7eb-4af3-b296-7af18c14916e"
      },
      "source": [
        "y_pred = model.predict(x_test)"
      ],
      "execution_count": null,
      "outputs": [
        {
          "output_type": "stream",
          "name": "stdout",
          "text": [
            "1/1 [==============================] - 2s 2s/step\n"
          ]
        }
      ]
    },
    {
      "cell_type": "markdown",
      "metadata": {
        "collapsed": false,
        "id": "WhM4opUcO9W0"
      },
      "source": [
        "**Paso 9**: Realiza un gráfica comparativa entre las predicciones y los valores reales."
      ]
    },
    {
      "cell_type": "code",
      "metadata": {
        "id": "eGXpMjoxO4eK",
        "colab": {
          "base_uri": "https://localhost:8080/",
          "height": 472
        },
        "outputId": "f030eb59-c50a-4524-f0f2-7110cf013cf4"
      },
      "source": [
        "plt.plot(range(29, 60), y_pred.flatten(), label='Predicciones')\n",
        "plt.plot(range(60), Y[-60:], label='Valores reales')\n",
        "plt.xlabel('Dias')\n",
        "plt.ylabel('Valor de apertura en bolsa')\n",
        "plt.title('Comparación de predicciones y valores reales')\n",
        "plt.legend()\n",
        "plt.show()"
      ],
      "execution_count": null,
      "outputs": [
        {
          "output_type": "display_data",
          "data": {
            "text/plain": [
              "<Figure size 640x480 with 1 Axes>"
            ],
            "image/png": "[encoded data removed]"
          },
          "metadata": {}
        }
      ]
    }
  ]
}